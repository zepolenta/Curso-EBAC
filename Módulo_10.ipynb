{
  "nbformat": 4,
  "nbformat_minor": 0,
  "metadata": {
    "colab": {
      "provenance": [],
      "authorship_tag": "ABX9TyPuZDvHGHBbfTnCLSNkN7CB",
      "include_colab_link": true
    },
    "kernelspec": {
      "name": "python3",
      "display_name": "Python 3"
    },
    "language_info": {
      "name": "python"
    }
  },
  "cells": [
    {
      "cell_type": "markdown",
      "metadata": {
        "id": "view-in-github",
        "colab_type": "text"
      },
      "source": [
        "<a href=\"https://colab.research.google.com/github/zepolenta/Curso-EBAC/blob/main/M%C3%B3dulo_10.ipynb\" target=\"_parent\"><img src=\"https://colab.research.google.com/assets/colab-badge.svg\" alt=\"Open In Colab\"/></a>"
      ]
    },
    {
      "cell_type": "code",
      "execution_count": 1,
      "metadata": {
        "colab": {
          "base_uri": "https://localhost:8080/"
        },
        "id": "m1SsAm-j0aSj",
        "outputId": "b05c8fcf-73c8-49ce-b6d6-3c95e610f708"
      },
      "outputs": [
        {
          "output_type": "stream",
          "name": "stdout",
          "text": [
            "Writing banco.csv\n"
          ]
        }
      ],
      "source": [
        "%%writefile banco.csv\n",
        "age,job,marital,education,default,balance,housing,loan\n",
        "30,unemployed,married,primary,no,1787,no,no\n",
        "33,services,married,secondary,no,4789,yes,yes\n",
        "35,management,single,tertiary,no,1350,yes,no\n",
        "30,management,married,tertiary,no,1476,yes,yes\n",
        "59,blue-collar,married,secondary,no,0,yes,no\n",
        "35,management,single,tertiary,no,747,no,no\n",
        "36,self-employed,married,tertiary,no,307,yes,no\n",
        "39,technician,married,secondary,no,147,yes,no\n",
        "41,entrepreneur,married,tertiary,no,221,yes,no\n",
        "43,services,married,primary,no,-88,yes,yes"
      ]
    },
    {
      "cell_type": "code",
      "source": [
        "idades = []\n",
        "\n",
        "with open(file='./banco.csv', mode='r', encoding='utf8') as arquivo:\n",
        "  cabecalho = arquivo.readline().split(sep=',')\n",
        "  indice_idade = cabecalho.index('age')\n",
        "  linha = arquivo.readline()\n",
        "  while linha:\n",
        "    idade = linha.split(sep=',')[indice_idade]\n",
        "    idades.append(idade)\n",
        "    linha = arquivo.readline()\n",
        "\n",
        "print(idades)"
      ],
      "metadata": {
        "colab": {
          "base_uri": "https://localhost:8080/"
        },
        "id": "trYrwTZT0jcu",
        "outputId": "d3853f25-7882-4920-c63c-550f96546d7e"
      },
      "execution_count": 2,
      "outputs": [
        {
          "output_type": "stream",
          "name": "stdout",
          "text": [
            "['30', '33', '35', '30', '59', '35', '36', '39', '41', '43']\n"
          ]
        }
      ]
    },
    {
      "cell_type": "code",
      "source": [
        "tipos_idades = set(map(lambda idade: type(idade), idades))\n",
        "print(tipos_idades)"
      ],
      "metadata": {
        "colab": {
          "base_uri": "https://localhost:8080/"
        },
        "id": "Wp8_la6p0wBU",
        "outputId": "c87058f1-f378-4961-92e1-be87db01e8cc"
      },
      "execution_count": 3,
      "outputs": [
        {
          "output_type": "stream",
          "name": "stdout",
          "text": [
            "{<class 'str'>}\n"
          ]
        }
      ]
    },
    {
      "cell_type": "code",
      "source": [
        "from functools import reduce\n",
        "\n",
        "soma_idades = reduce(lambda idade_a, idade_b: idade_a + idade_b, map(lambda idade: int(idade), idades))\n",
        "qtd_idades = len(idades)\n",
        "\n",
        "media_idades = soma_idades / qtd_idades\n",
        "print(f\"A média das idades é de {media_idades}.\")"
      ],
      "metadata": {
        "colab": {
          "base_uri": "https://localhost:8080/"
        },
        "id": "7qw1MKSL0z0_",
        "outputId": "65f7bfcb-7f69-4b82-f3d4-37a2b314ba77"
      },
      "execution_count": 4,
      "outputs": [
        {
          "output_type": "stream",
          "name": "stdout",
          "text": [
            "A média das idades é de 38.1.\n"
          ]
        }
      ]
    },
    {
      "cell_type": "code",
      "source": [
        "import csv\n",
        "\n",
        "saldos = None\n",
        "\n",
        "with open(file='./banco.csv', mode='r', encoding='utf8') as arquivo:\n",
        "  leitor_csv_iter = csv.reader(arquivo, delimiter=',')\n",
        "  cabecalho = next(leitor_csv_iter)\n",
        "  indice_saldo = cabecalho.index('balance')\n",
        "  saldos = [linha[indice_saldo] for linha in leitor_csv_iter]\n",
        "  \n",
        "print(saldos)"
      ],
      "metadata": {
        "colab": {
          "base_uri": "https://localhost:8080/"
        },
        "id": "q_Fb6scA02oL",
        "outputId": "1b23cb26-48cc-4eaf-981d-30391603f8cc"
      },
      "execution_count": 5,
      "outputs": [
        {
          "output_type": "stream",
          "name": "stdout",
          "text": [
            "['1787', '4789', '1350', '1476', '0', '747', '307', '147', '221', '-88']\n"
          ]
        }
      ]
    },
    {
      "cell_type": "code",
      "source": [
        "from functools import reduce\n",
        "\n",
        "soma_saldos = reduce(lambda saldo_a, saldo_b: saldo_a + saldo_b, map(lambda saldo: int(saldo), saldos))\n",
        "qtd_saldos = len(saldos)\n",
        "\n",
        "media_saldos = soma_saldos / qtd_saldos\n",
        "print(f\"A média dos saldos é de {media_saldos}.\")"
      ],
      "metadata": {
        "colab": {
          "base_uri": "https://localhost:8080/"
        },
        "id": "GtI5pj2A05_V",
        "outputId": "8d2a4ea8-27a6-47c3-d187-a4fb0932a04e"
      },
      "execution_count": 6,
      "outputs": [
        {
          "output_type": "stream",
          "name": "stdout",
          "text": [
            "A média dos saldos é de 1073.6.\n"
          ]
        }
      ]
    },
    {
      "cell_type": "code",
      "source": [
        "%%writefile nubank.txt\n",
        "Como você prefere falar com a gente?\n",
        "\n",
        "E-mail\n",
        "Tem alguma dúvida? Podemos te ajudar pelo nosso canal de email.\n",
        "meajuda@nubank.com.br\n",
        "\n",
        "Telefone\n",
        "Você pode ligar para o 0800 do Nubank a qualquer hora através do número abaixo.\n",
        "0800 608 6236\n",
        "\n",
        "Chat\n",
        "Precisa de uma ajuda agora? Entre em contato com nosso atendimento através do chat.\n",
        "Basta abrir o chat no app.\n",
        "\n",
        "Siga o @Nubank\n",
        "Saiba das novidades e receba dicas na nossas redes sociais e também na NuCommunity, a comunidade online oficial do Nubank.\n",
        "\n",
        "Imprensa\n",
        "Reunimos todas as informações para você aqui.\n",
        "press@nu.bank\n",
        "\n",
        "Ouvidoria\n",
        "Já conversou conosco e mesmo assim não\n",
        "conseguiu resolver o que precisava? Nossa\n",
        "Ouvidoria pode avaliar seu caso.\n",
        "0800 887 0463\n",
        "ouvidoria@nubank.com.br\n",
        "\n",
        "Atendemos em dias úteis das 9h às 18h\n",
        "(horário de São Paulo/SP).\n",
        "\n",
        "Parcerias\n",
        "Se você tem uma proposta de patrocínio, parceria\n",
        "ou publicidade, fale conosco por aqui: marketing@nubank.com.br"
      ],
      "metadata": {
        "colab": {
          "base_uri": "https://localhost:8080/"
        },
        "id": "uDiiiw2BCWYC",
        "outputId": "bcbb3c68-58ef-49f5-a8ec-41cbd867b649"
      },
      "execution_count": 7,
      "outputs": [
        {
          "output_type": "stream",
          "name": "stdout",
          "text": [
            "Writing nubank.txt\n"
          ]
        }
      ]
    },
    {
      "cell_type": "code",
      "source": [
        "with open(file='./nubank.txt', mode='r', encoding='utf8') as arquivo:\n",
        "  linhas = arquivo.readlines()\n",
        "  \n",
        "print(linhas)"
      ],
      "metadata": {
        "colab": {
          "base_uri": "https://localhost:8080/"
        },
        "id": "8rIiD8EfCha9",
        "outputId": "5703b5e0-c1a6-492d-9d20-bb5a04f34c17"
      },
      "execution_count": 8,
      "outputs": [
        {
          "output_type": "stream",
          "name": "stdout",
          "text": [
            "['Como você prefere falar com a gente?\\n', '\\n', 'E-mail\\n', 'Tem alguma dúvida? Podemos te ajudar pelo nosso canal de email.\\n', 'meajuda@nubank.com.br\\n', '\\n', 'Telefone\\n', 'Você pode ligar para o 0800 do Nubank a qualquer hora através do número abaixo.\\n', '0800 608 6236\\n', '\\n', 'Chat\\n', 'Precisa de uma ajuda agora? Entre em contato com nosso atendimento através do chat.\\n', 'Basta abrir o chat no app.\\n', '\\n', 'Siga o @Nubank\\n', 'Saiba das novidades e receba dicas na nossas redes sociais e também na NuCommunity, a comunidade online oficial do Nubank.\\n', '\\n', 'Imprensa\\n', 'Reunimos todas as informações para você aqui.\\n', 'press@nu.bank\\n', '\\n', 'Ouvidoria\\n', 'Já conversou conosco e mesmo assim não\\n', 'conseguiu resolver o que precisava? Nossa\\n', 'Ouvidoria pode avaliar seu caso.\\n', '0800 887 0463\\n', 'ouvidoria@nubank.com.br\\n', '\\n', 'Atendemos em dias úteis das 9h às 18h\\n', '(horário de São Paulo/SP).\\n', '\\n', 'Parcerias\\n', 'Se você tem uma proposta de patrocínio, parceria\\n', 'ou publicidade, fale conosco por aqui: marketing@nubank.com.br\\n']\n"
          ]
        }
      ]
    },
    {
      "cell_type": "code",
      "source": [
        "linhas = filter(lambda linha: linha != '\\n', linhas)\n",
        "linhas = map(lambda linha: linha.strip(), linhas)\n",
        "linhas = list(linhas)\n",
        "\n",
        "print(linhas)"
      ],
      "metadata": {
        "colab": {
          "base_uri": "https://localhost:8080/"
        },
        "id": "vazpbD9YFJFG",
        "outputId": "196a8b7b-2b36-4992-e878-fd41418912f6"
      },
      "execution_count": 9,
      "outputs": [
        {
          "output_type": "stream",
          "name": "stdout",
          "text": [
            "['Como você prefere falar com a gente?', 'E-mail', 'Tem alguma dúvida? Podemos te ajudar pelo nosso canal de email.', 'meajuda@nubank.com.br', 'Telefone', 'Você pode ligar para o 0800 do Nubank a qualquer hora através do número abaixo.', '0800 608 6236', 'Chat', 'Precisa de uma ajuda agora? Entre em contato com nosso atendimento através do chat.', 'Basta abrir o chat no app.', 'Siga o @Nubank', 'Saiba das novidades e receba dicas na nossas redes sociais e também na NuCommunity, a comunidade online oficial do Nubank.', 'Imprensa', 'Reunimos todas as informações para você aqui.', 'press@nu.bank', 'Ouvidoria', 'Já conversou conosco e mesmo assim não', 'conseguiu resolver o que precisava? Nossa', 'Ouvidoria pode avaliar seu caso.', '0800 887 0463', 'ouvidoria@nubank.com.br', 'Atendemos em dias úteis das 9h às 18h', '(horário de São Paulo/SP).', 'Parcerias', 'Se você tem uma proposta de patrocínio, parceria', 'ou publicidade, fale conosco por aqui: marketing@nubank.com.br']\n"
          ]
        }
      ]
    },
    {
      "cell_type": "code",
      "source": [
        "linhas_com_email = filter(lambda linha: '.com' in linha, linhas)\n",
        "linhas_com_email = list(linhas_com_email)\n",
        "\n",
        "print(linhas_com_email)"
      ],
      "metadata": {
        "colab": {
          "base_uri": "https://localhost:8080/"
        },
        "id": "8RztuWj9FzHo",
        "outputId": "db3ff233-c26d-40c3-a5d4-3db470ccff98"
      },
      "execution_count": 10,
      "outputs": [
        {
          "output_type": "stream",
          "name": "stdout",
          "text": [
            "['meajuda@nubank.com.br', 'ouvidoria@nubank.com.br', 'ou publicidade, fale conosco por aqui: marketing@nubank.com.br']\n"
          ]
        }
      ]
    },
    {
      "cell_type": "code",
      "source": [
        "emails_extraidos = []\n",
        "\n",
        "for linha_com_email in linhas_com_email:\n",
        "\n",
        "  palavras = linha_com_email.split(sep=' ')\n",
        "  emails = filter(lambda palavra: '@' in palavra, palavras)\n",
        "  emails_extraidos = emails_extraidos + list(emails)\n",
        "\n",
        "print(emails_extraidos)"
      ],
      "metadata": {
        "colab": {
          "base_uri": "https://localhost:8080/"
        },
        "id": "F36MD_DFF2yz",
        "outputId": "62736816-9f8a-441b-8562-b8192804245e"
      },
      "execution_count": 11,
      "outputs": [
        {
          "output_type": "stream",
          "name": "stdout",
          "text": [
            "['meajuda@nubank.com.br', 'ouvidoria@nubank.com.br', 'marketing@nubank.com.br']\n"
          ]
        }
      ]
    },
    {
      "cell_type": "code",
      "source": [
        "import re\n",
        "\n",
        "with open(file='./nubank.txt', mode='r', encoding='utf8') as arquivo:\n",
        "  texto = arquivo.read()\n",
        "  \n",
        "emails_extraidos = re.findall('\\S+@\\S+', texto)\n",
        "print(emails_extraidos)"
      ],
      "metadata": {
        "colab": {
          "base_uri": "https://localhost:8080/"
        },
        "id": "NQkFRPipH0D3",
        "outputId": "e8c9df02-39e2-4cc8-a504-00455ef96736"
      },
      "execution_count": 13,
      "outputs": [
        {
          "output_type": "stream",
          "name": "stdout",
          "text": [
            "['meajuda@nubank.com.br', 'press@nu.bank', 'ouvidoria@nubank.com.br', 'marketing@nubank.com.br']\n"
          ]
        }
      ]
    },
    {
      "cell_type": "code",
      "source": [
        "import csv\n",
        "\n",
        "with open(file='./nubank.csv', mode='w', encoding='utf8') as arquivo:\n",
        "  escritor_csv = csv.writer(arquivo, delimiter=';')\n",
        "  escritor_csv.writerows([['email']] + list(map(lambda email_extraido: [email_extraido], emails_extraidos)))"
      ],
      "metadata": {
        "id": "Vpz17FlTIjdN"
      },
      "execution_count": 15,
      "outputs": []
    },
    {
      "cell_type": "code",
      "source": [
        "import re\n",
        "\n",
        "with open(file='./nubank.txt', mode='r', encoding='utf8') as arquivo:\n",
        "  texto = arquivo.read()\n",
        "  \n",
        "perfil_extraidos = re.findall('@\\S+', texto)\n",
        "perfil_extraidos = filter(lambda perfil: '.' not in perfil, perfil_extraidos)\n",
        "perfil_extraidos = list(perfil_extraidos)\n",
        "\n",
        "print(perfil_extraidos)"
      ],
      "metadata": {
        "colab": {
          "base_uri": "https://localhost:8080/"
        },
        "id": "D_ezrGzCJqBy",
        "outputId": "dca81767-aca5-44b9-adfb-d2983bcff25c"
      },
      "execution_count": 16,
      "outputs": [
        {
          "output_type": "stream",
          "name": "stdout",
          "text": [
            "['@Nubank']\n"
          ]
        }
      ]
    },
    {
      "cell_type": "code",
      "source": [
        "!wget --show-progress --continue -O ./banco.xlsx https://raw.githubusercontent.com/andre-marcos-perez/ebac-course-utils/main/dataset/banco.xlsx"
      ],
      "metadata": {
        "colab": {
          "base_uri": "https://localhost:8080/"
        },
        "id": "ZtwulZRoLnpe",
        "outputId": "77bd2d65-f91a-4e32-b87d-b9ec0f8fb9f1"
      },
      "execution_count": 17,
      "outputs": [
        {
          "output_type": "stream",
          "name": "stdout",
          "text": [
            "--2023-04-14 14:32:25--  https://raw.githubusercontent.com/andre-marcos-perez/ebac-course-utils/main/dataset/banco.xlsx\n",
            "Resolving raw.githubusercontent.com (raw.githubusercontent.com)... 185.199.108.133, 185.199.109.133, 185.199.110.133, ...\n",
            "Connecting to raw.githubusercontent.com (raw.githubusercontent.com)|185.199.108.133|:443... connected.\n",
            "HTTP request sent, awaiting response... 200 OK\n",
            "Length: 5433 (5.3K) [application/octet-stream]\n",
            "Saving to: ‘./banco.xlsx’\n",
            "\n",
            "./banco.xlsx        100%[===================>]   5.31K  --.-KB/s    in 0s      \n",
            "\n",
            "2023-04-14 14:32:25 (58.0 MB/s) - ‘./banco.xlsx’ saved [5433/5433]\n",
            "\n"
          ]
        }
      ]
    },
    {
      "cell_type": "code",
      "source": [
        "!pip install openpyxl"
      ],
      "metadata": {
        "colab": {
          "base_uri": "https://localhost:8080/"
        },
        "id": "tSWlTZY4Lpgp",
        "outputId": "dc3c9ee7-4db1-4ea9-afeb-928de6b434ad"
      },
      "execution_count": 18,
      "outputs": [
        {
          "output_type": "stream",
          "name": "stdout",
          "text": [
            "Looking in indexes: https://pypi.org/simple, https://us-python.pkg.dev/colab-wheels/public/simple/\n",
            "Requirement already satisfied: openpyxl in /usr/local/lib/python3.9/dist-packages (3.0.10)\n",
            "Requirement already satisfied: et-xmlfile in /usr/local/lib/python3.9/dist-packages (from openpyxl) (1.1.0)\n"
          ]
        }
      ]
    },
    {
      "cell_type": "code",
      "source": [
        "from openpyxl import load_workbook\n",
        "\n",
        "planilhas = load_workbook(filename='banco.xlsx')\n",
        "planilha = planilhas.active"
      ],
      "metadata": {
        "id": "Yex53zO3L9kE"
      },
      "execution_count": 19,
      "outputs": []
    },
    {
      "cell_type": "code",
      "source": [
        "saldos = []\n",
        "\n",
        "cabecalho = next(planilha.values)\n",
        "indice_saldo = cabecalho.index('balance')\n",
        "saldos = [linha[indice_saldo] for linha in planilha.values if linha[indice_saldo] != 'balance']\n",
        "\n",
        "print(saldos)"
      ],
      "metadata": {
        "colab": {
          "base_uri": "https://localhost:8080/"
        },
        "id": "TFh5R3vtMDh1",
        "outputId": "b4ecb10a-96f0-434d-cf93-60979e01cdc4"
      },
      "execution_count": 20,
      "outputs": [
        {
          "output_type": "stream",
          "name": "stdout",
          "text": [
            "[1787, 4789, 1350, 1476, 0, 747, 307, 147, 221, -88]\n"
          ]
        }
      ]
    },
    {
      "cell_type": "code",
      "source": [
        "print(set(map(lambda saldo: type(saldo), saldos)))"
      ],
      "metadata": {
        "colab": {
          "base_uri": "https://localhost:8080/"
        },
        "id": "GcVdVw1mNNmU",
        "outputId": "6aeeb4fb-9a86-48b6-e9fa-048be9d655aa"
      },
      "execution_count": 21,
      "outputs": [
        {
          "output_type": "stream",
          "name": "stdout",
          "text": [
            "{<class 'int'>}\n"
          ]
        }
      ]
    },
    {
      "cell_type": "code",
      "source": [
        "from functools import reduce\n",
        "\n",
        "soma_saldos = reduce(lambda saldo_a, saldo_b: saldo_a + saldo_b, saldos)\n",
        "qtd_saldos = len(saldos)\n",
        "\n",
        "media_saldos = soma_saldos / qtd_saldos\n",
        "print(f\"A média dos saldos é de {media_saldos}.\")"
      ],
      "metadata": {
        "colab": {
          "base_uri": "https://localhost:8080/"
        },
        "id": "d0WA4dviNQ_D",
        "outputId": "9f2cbc16-c5d0-43e8-b5d7-3a7fcebed420"
      },
      "execution_count": 22,
      "outputs": [
        {
          "output_type": "stream",
          "name": "stdout",
          "text": [
            "A média dos saldos é de 1073.6.\n"
          ]
        }
      ]
    }
  ]
}