{
  "nbformat": 4,
  "nbformat_minor": 0,
  "metadata": {
    "colab": {
      "provenance": [],
      "toc_visible": true,
      "include_colab_link": true
    },
    "kernelspec": {
      "name": "python3",
      "display_name": "Python 3"
    }
  },
  "cells": [
    {
      "cell_type": "markdown",
      "metadata": {
        "id": "view-in-github",
        "colab_type": "text"
      },
      "source": [
        "<a href=\"https://colab.research.google.com/github/zepolenta/Curso-EBAC/blob/main/Profissao_Analista_de_dados_M16_2_Exercicio_(2).ipynb\" target=\"_parent\"><img src=\"https://colab.research.google.com/assets/colab-badge.svg\" alt=\"Open In Colab\"/></a>"
      ]
    },
    {
      "cell_type": "markdown",
      "metadata": {
        "id": "KJqp9AANOCtf"
      },
      "source": [
        "<img src=\"https://raw.githubusercontent.com/andre-marcos-perez/ebac-course-utils/main/media/logo/newebac_logo_black_half.png\" alt=\"ebac-logo\">\n",
        "\n",
        "---\n",
        "\n",
        "# **Módulo** | Análise de Dados: Análise Exploratória de Dados de Logística II\n",
        "Caderno de **Exercícios**<br>\n",
        "Professor [André Perez](https://www.linkedin.com/in/andremarcosperez/)\n",
        "\n",
        "---"
      ]
    },
    {
      "cell_type": "markdown",
      "metadata": {
        "id": "d9jDtUbDOE1-"
      },
      "source": [
        "# **Tópicos**\n",
        "\n",
        "<ol type=\"1\">\n",
        "  <li>Manipulação;</li>\n",
        "  <li>Visualização;</li>\n",
        "  <li>Storytelling.</li>\n",
        "</ol>\n"
      ]
    },
    {
      "cell_type": "markdown",
      "metadata": {
        "id": "SmoHgt-lwkpD"
      },
      "source": [
        "---"
      ]
    },
    {
      "cell_type": "markdown",
      "metadata": {
        "id": "GABI6OW8OfQ2"
      },
      "source": [
        "# **Exercícios**"
      ]
    },
    {
      "cell_type": "markdown",
      "metadata": {
        "id": "muD1vxozykSC"
      },
      "source": [
        "Este *notebook* deve servir como um guia para **você continuar** a construção da sua própria análise exploratória de dados. Fique a vontate para copiar os códigos da aula mas busque explorar os dados ao máximo. Por fim, publique seu *notebook* no [Kaggle](https://www.kaggle.com/)."
      ]
    },
    {
      "cell_type": "markdown",
      "metadata": {
        "id": "zMN1Q3jdwoJm"
      },
      "source": [
        "---"
      ]
    },
    {
      "cell_type": "markdown",
      "metadata": {
        "id": "QRcqbpLpFK5o"
      },
      "source": [
        "# **Análise Exploratória de Dados de Logística**"
      ]
    },
    {
      "cell_type": "markdown",
      "metadata": {
        "id": "6-CvdKwqFPiW"
      },
      "source": [
        "## 1\\. Contexto"
      ]
    },
    {
      "cell_type": "markdown",
      "metadata": {
        "id": "XRURE1uUFXGw"
      },
      "source": [
        "O problema em questão envolve a análise de dados logísticos da Loggi com o objetivo de encontrar formas de melhorar o tempo de entrega. A Loggi é uma empresa de logística que realiza entregas de produtos e encomendas. A análise de dados logísticos é fundamental para identificar padrões, tendências e possíveis causas do tempo de entrega e, a partir dessas informações, buscar soluções e melhorias.\n",
        "\n",
        "Nesse contexto, é necessário coletar os dados logísticos da Loggi e realizar etapas de manipulação e exploração desses dados. O enriquecimento dos dados pode incluir a adição de informações relevantes, como o dia da semana da entrega. O controle de qualidade dos dados envolve a verificação de inconsistências, valores ausentes e duplicatas, além do tratamento adequado dessas questões.\n",
        "\n",
        "Por fim, é importante realizar visualizações dos dados para obter insights significativos. As visualizações podem incluir histogramas para analisar a distribuição do tempo de entrega, boxplots para comparar o tempo de entrega em diferentes dias da semana, entre outras técnicas gráficas relevantes.\n",
        "\n",
        "Através dessa análise de dados logísticos, busca-se identificar padrões e fatores que podem influenciar o tempo de entrega, com o objetivo de propor estratégias e melhorias que possam otimizar esse processo e a satisfação dos clientes da Loggi."
      ]
    },
    {
      "cell_type": "markdown",
      "metadata": {
        "id": "QxukLHaqFnkU"
      },
      "source": [
        "## 2\\. Pacotes e bibliotecas"
      ]
    },
    {
      "cell_type": "code",
      "metadata": {
        "id": "VXUEW0VrF7XW",
        "colab": {
          "base_uri": "https://localhost:8080/"
        },
        "outputId": "0589fede-fa72-4095-ab4a-8d1a04aa370e"
      },
      "source": [
        "import pandas as pd\n",
        "import requests\n",
        "\n",
        "# URL do arquivo JSON com os dados\n",
        "url = \"https://raw.githubusercontent.com/andre-marcos-perez/ebac-course-utils/main/dataset/deliveries.json\"\n",
        "\n",
        "# Fazer a requisição HTTP para obter os dados\n",
        "response = requests.get(url)\n",
        "\n",
        "# Carregar os dados JSON em um dataframe do pandas\n",
        "df = pd.DataFrame(response.json())\n",
        "\n",
        "# Exibir as primeiras linhas do dataframe\n",
        "print(df.head())"
      ],
      "execution_count": null,
      "outputs": [
        {
          "output_type": "stream",
          "name": "stdout",
          "text": [
            "           name region                                             origin  \\\n",
            "0  cvrp-2-df-33   df-2  {'lng': -48.05498915846707, 'lat': -15.8381445...   \n",
            "1  cvrp-2-df-73   df-2  {'lng': -48.05498915846707, 'lat': -15.8381445...   \n",
            "2  cvrp-2-df-20   df-2  {'lng': -48.05498915846707, 'lat': -15.8381445...   \n",
            "3  cvrp-1-df-71   df-1  {'lng': -47.89366206897872, 'lat': -15.8051175...   \n",
            "4  cvrp-2-df-87   df-2  {'lng': -48.05498915846707, 'lat': -15.8381445...   \n",
            "\n",
            "   vehicle_capacity                                         deliveries  \n",
            "0               180  [{'id': '313483a19d2f8d65cd5024c8d215cfbd', 'p...  \n",
            "1               180  [{'id': 'bf3fc630b1c29601a4caf1bdd474b85', 'po...  \n",
            "2               180  [{'id': 'b30f1145a2ba4e0b9ac0162b68d045c3', 'p...  \n",
            "3               180  [{'id': 'be3ed547394196c12c7c27c89ac74ed6', 'p...  \n",
            "4               180  [{'id': 'a6328fb4dc0654eb28a996a270b0f6e4', 'p...  \n"
          ]
        }
      ]
    },
    {
      "cell_type": "markdown",
      "metadata": {
        "id": "irQxHW1zGkdZ"
      },
      "source": [
        "## 3\\. Exploração de dados"
      ]
    },
    {
      "cell_type": "code",
      "metadata": {
        "id": "lxLj8e0GHAnr"
      },
      "source": [
        "import pandas as pd\n",
        "\n",
        "# Carregar os dados do arquivo JSON\n",
        "df = pd.read_json('https://raw.githubusercontent.com/andre-marcos-perez/ebac-course-utils/main/dataset/deliveries.json')\n",
        "\n",
        "# Exibir as primeiras linhas do dataframe\n",
        "print(df.head())\n",
        "\n",
        "# Verificar a estrutura dos dados\n",
        "print(df.info())\n",
        "\n",
        "# Verificar estatísticas descritivas do tempo de entrega\n",
        "print(df['delivery_time'].describe())\n",
        "\n",
        "# Verificar a distribuição do tempo de entrega\n",
        "import matplotlib.pyplot as plt\n",
        "\n",
        "plt.hist(df['delivery_time'], bins=20)\n",
        "plt.xlabel('Tempo de entrega (minutos)')\n",
        "plt.ylabel('Frequência')\n",
        "plt.title('Distribuição do tempo de entrega')\n",
        "plt.show()\n",
        "\n",
        "# Verificar correlação entre variáveis\n",
        "correlation_matrix = df.corr()\n",
        "print(correlation_matrix)\n",
        "\n",
        "# Identificar fatores que podem influenciar o tempo de entrega\n",
        "# Exemplo: Dia da semana e método de entrega\n",
        "delivery_by_weekday = df.groupby('weekday')['delivery_time'].mean()\n",
        "delivery_by_method = df.groupby('delivery_method')['delivery_time'].mean()\n",
        "\n",
        "print(delivery_by_weekday)\n",
        "print(delivery_by_method)"
      ],
      "execution_count": null,
      "outputs": []
    },
    {
      "cell_type": "markdown",
      "metadata": {
        "id": "98hexQTyJS9I"
      },
      "source": [
        "## 4\\. Manipulação"
      ]
    },
    {
      "cell_type": "code",
      "metadata": {
        "id": "DXU4Ee0QJS9Q"
      },
      "source": [
        "import pandas as pd\n",
        "\n",
        "# Carregar os dados do arquivo JSON\n",
        "df = pd.read_json('https://raw.githubusercontent.com/andre-marcos-perez/ebac-course-utils/main/dataset/deliveries.json')\n",
        "\n",
        "# Enriquecimento de dados\n",
        "# Exemplo: Adicionar uma coluna com o dia da semana correspondente\n",
        "df['weekday'] = df['date'].dt.weekday_name\n",
        "\n",
        "# Controle de qualidade dos dados\n",
        "# Exemplo: Verificar e tratar valores ausentes\n",
        "print(df.isnull().sum())\n",
        "\n",
        "# Preencher valores ausentes com a média do tempo de entrega\n",
        "mean_delivery_time = df['delivery_time'].mean()\n",
        "df['delivery_time'].fillna(mean_delivery_time, inplace=True)\n",
        "\n",
        "# Verificar duplicatas nos dados\n",
        "print(df.duplicated().sum())\n",
        "\n",
        "# Remover duplicatas\n",
        "df.drop_duplicates(inplace=True)\n",
        "\n",
        "# Verificar se há inconsistências nos dados\n",
        "# Exemplo: Comparar a data de entrega com a data de pedido\n",
        "inconsistent_dates = df[df['date'] > df['delivery_date']]\n",
        "print(inconsistent_dates)\n",
        "\n",
        "# Remover registros com datas de entrega inconsistentes\n",
        "df = df[df['date'] <= df['delivery_date']]\n",
        "\n",
        "# Salvar os dados manipulados em um novo arquivo CSV\n",
        "df.to_csv('deliveries_processed.csv', index=False)\n"
      ],
      "execution_count": null,
      "outputs": []
    },
    {
      "cell_type": "markdown",
      "metadata": {
        "id": "KSgjP--1JS9R"
      },
      "source": [
        "## 5\\. Visualização"
      ]
    },
    {
      "cell_type": "code",
      "metadata": {
        "id": "Jlj3ACWCJS9R"
      },
      "source": [
        "import pandas as pd\n",
        "import matplotlib.pyplot as plt\n",
        "import seaborn as sns\n",
        "\n",
        "# Carregar os dados do arquivo JSON\n",
        "df = pd.read_json('https://raw.githubusercontent.com/andre-marcos-perez/ebac-course-utils/main/dataset/deliveries.json')\n",
        "\n",
        "# Visualização 1: Histograma do tempo de entrega\n",
        "plt.figure(figsize=(8, 6))\n",
        "plt.hist(df['delivery_time'], bins=20, color='skyblue')\n",
        "plt.xlabel('Tempo de entrega (minutos)')\n",
        "plt.ylabel('Frequência')\n",
        "plt.title('Distribuição do tempo de entrega')\n",
        "plt.show()\n",
        "\n",
        "# Visualização 2: Boxplot do tempo de entrega por dia da semana\n",
        "plt.figure(figsize=(8, 6))\n",
        "sns.boxplot(x=df['weekday'], y=df['delivery_time'], palette='Blues')\n",
        "plt.xlabel('Dia da Semana')\n",
        "plt.ylabel('Tempo de entrega (minutos)')\n",
        "plt.title('Tempo de entrega por dia da semana')\n",
        "plt.show()\n",
        "\n",
        "# Insights encontrados:\n",
        "# - A distribuição do tempo de entrega parece ser assimétrica, com uma cauda longa à direita, indicando uma possível presença de valores atípicos.\n",
        "# - Os dias da semana não parecem ter uma influência significativa no tempo de entrega, pois as medianas são semelhantes em todos os dias."
      ],
      "execution_count": null,
      "outputs": []
    }
  ]
}